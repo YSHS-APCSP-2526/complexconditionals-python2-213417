{
  "nbformat": 4,
  "nbformat_minor": 0,
  "metadata": {
    "colab": {
      "provenance": [],
      "include_colab_link": true
    },
    "kernelspec": {
      "name": "python3",
      "display_name": "Python 3"
    },
    "language_info": {
      "name": "python"
    }
  },
  "cells": [
    {
      "cell_type": "markdown",
      "metadata": {
        "id": "view-in-github",
        "colab_type": "text"
      },
      "source": [
        "<a href=\"https://colab.research.google.com/github/YSHS-APCSP-2526/complexconditionals-python2-213417/blob/main/Conditionals_NestedandCompound_Python3.ipynb\" target=\"_parent\"><img src=\"https://colab.research.google.com/assets/colab-badge.svg\" alt=\"Open In Colab\"/></a>"
      ]
    },
    {
      "cell_type": "markdown",
      "source": [
        "#Assignment 3: Complex Conditionals (Nested + Compound)\n",
        "Vocabulary\n",
        "\n",
        "**Nested conditional**: An if inside another if.\n",
        "\n",
        "**Compound condition**: A condition joined with and or or.\n",
        "\n",
        "**Boolean expression**: A statement that is True or False."
      ],
      "metadata": {
        "id": "i33jDObG3GYg"
      }
    },
    {
      "cell_type": "markdown",
      "source": [
        "Walkthrough: Nested and Compound Conditions\n",
        "\n",
        "Here’s a function that checks if someone is eligible to vote:"
      ],
      "metadata": {
        "id": "1DbhWam83XYf"
      }
    },
    {
      "cell_type": "code",
      "execution_count": null,
      "metadata": {
        "id": "HE0LSsXs3DBA"
      },
      "outputs": [],
      "source": [
        "def can_vote(age, citizen):\n",
        "    if age >= 18:\n",
        "        if citizen:\n",
        "            return \"Eligible\"\n",
        "        else:\n",
        "            return \"Not eligible (not a citizen)\"\n",
        "    else:\n",
        "        return \"Not eligible (too young)\"\n"
      ]
    },
    {
      "cell_type": "code",
      "source": [
        "print(can_vote(20, True))   # Eligible\n",
        "print(can_vote(16, True))   # Not eligible (too young)\n",
        "print(can_vote(20, False))  # Not eligible (not a citizen)"
      ],
      "metadata": {
        "colab": {
          "base_uri": "https://localhost:8080/"
        },
        "id": "QnpE5lTh33GU",
        "outputId": "60c1a084-561c-4e3f-82b7-7a86f2046f94"
      },
      "execution_count": null,
      "outputs": [
        {
          "output_type": "stream",
          "name": "stdout",
          "text": [
            "Eligible\n",
            "Not eligible (too young)\n",
            "Not eligible (not a citizen)\n"
          ]
        }
      ]
    },
    {
      "cell_type": "markdown",
      "source": [
        "\n",
        "Here’s the same idea using a compound condition:"
      ],
      "metadata": {
        "id": "r3A4k5aI4EMN"
      }
    },
    {
      "cell_type": "code",
      "source": [
        "def can_vote(age, citizen):\n",
        "    if age >= 18 and citizen:\n",
        "        return \"Eligible\"\n",
        "    else:\n",
        "        return \"Not eligible\"\n"
      ],
      "metadata": {
        "id": "xCyeSz5u4KEq"
      },
      "execution_count": null,
      "outputs": []
    },
    {
      "cell_type": "code",
      "source": [
        "print(can_vote(20, True))   # Eligible\n",
        "print(can_vote(16, True))   # Not eligible (too young)\n",
        "print(can_vote(20, False))  # Not eligible (not a citizen)"
      ],
      "metadata": {
        "colab": {
          "base_uri": "https://localhost:8080/"
        },
        "id": "uUnqUKQG4RkC",
        "outputId": "3dc53b97-ac37-4062-c0b0-d2b913fff681"
      },
      "execution_count": null,
      "outputs": [
        {
          "output_type": "stream",
          "name": "stdout",
          "text": [
            "Eligible\n",
            "Not eligible (too young)\n",
            "Not eligible (not a citizen)\n"
          ]
        }
      ]
    },
    {
      "cell_type": "markdown",
      "source": [
        "#Activity 1: Ticket Price\n",
        "\n",
        "Write a function ticket_price(age, is_student) that:\n",
        "\n",
        "Returns 8 if under 12 or if a student.\n",
        "\n",
        "Returns 10 if 12–64 and not a student.\n",
        "\n",
        "Returns 7 if 65 or older.\n",
        "\n",
        "Examples:\n",
        "\n",
        "\n",
        "```\n",
        "\n",
        "print(ticket_price(10, False))  # 8\n",
        "print(ticket_price(20, True))   # 8\n",
        "print(ticket_price(30, False))  # 10\n",
        "print(ticket_price(70, False))  # 7\n",
        "\n",
        "```"
      ],
      "metadata": {
        "id": "rEWODLYA5VL2"
      }
    },
    {
      "cell_type": "code",
      "source": [
        "def ticket_price (age, is_student):\n",
        "  if age < 12 or is_student:\n",
        "          return 8\n",
        "  elif age < 64:\n",
        "          return 10\n",
        "  else:\n",
        "          return 7"
      ],
      "metadata": {
        "id": "ghIy-7b03lEy"
      },
      "execution_count": null,
      "outputs": []
    },
    {
      "cell_type": "code",
      "source": [
        "#write a ticket_price() function here\n",
        "print(ticket_price(10, False))  # 8\n",
        "print(ticket_price(20, True))   # 8\n",
        "print(ticket_price(30, False))  # 10\n",
        "print(ticket_price(70, False))  # 7\n"
      ],
      "metadata": {
        "id": "0O12jhe25oxm",
        "colab": {
          "base_uri": "https://localhost:8080/"
        },
        "outputId": "47d87bcc-98ab-4d9b-d5b5-8080d56f6077"
      },
      "execution_count": null,
      "outputs": [
        {
          "output_type": "stream",
          "name": "stdout",
          "text": [
            "8\n",
            "8\n",
            "10\n",
            "7\n"
          ]
        }
      ]
    },
    {
      "cell_type": "markdown",
      "source": [
        "##Activity 2: Triangle Type\n",
        "\n",
        "Write a function triangle_type(a, b, c) that:\n",
        "\n",
        "Returns \"Equilateral\" if all sides are equal.\n",
        "\n",
        "Returns \"Isosceles\" if two sides are equal.\n",
        "\n",
        "Returns \"Scalene\" if all sides are different.\n",
        "\n",
        "\n",
        "\n",
        "```\n",
        "print(triangle_type(3, 3, 3))  # Equilateral\n",
        "print(triangle_type(3, 4, 3))  # Isosceles\n",
        "print(triangle_type(3, 4, 5))  # Scalene\n",
        "```\n",
        "\n"
      ],
      "metadata": {
        "id": "O4mdumeK50aI"
      }
    },
    {
      "cell_type": "code",
      "source": [
        "# write your triangle_type() function here\n",
        "def triangle_type(a,b,c):\n",
        "  if a==b and a==c and c==b:\n",
        "    return \"equilateral\"\n",
        "  elif a==b or b==c or c==a:\n",
        "    return \"isosceles\"\n",
        "  else:\n",
        "    return \"scalene\"\n",
        "\n",
        "print(triangle_type(3, 3, 3))  # Equilateral\n",
        "print(triangle_type(3, 4, 3))  # Isosceles\n",
        "print(triangle_type(3, 4, 5))  # Scalene"
      ],
      "metadata": {
        "id": "oNrREwYc59eD",
        "colab": {
          "base_uri": "https://localhost:8080/"
        },
        "outputId": "49c90803-899c-4d99-e1ce-245a87c47861"
      },
      "execution_count": null,
      "outputs": [
        {
          "output_type": "stream",
          "name": "stdout",
          "text": [
            "equilateral\n",
            "isosceles\n",
            "scalene\n"
          ]
        }
      ]
    },
    {
      "cell_type": "markdown",
      "source": [
        "##Activity 3: Login System\n",
        "\n",
        "Write a function login(username, password) that:\n",
        "\n",
        "Returns \"Access granted\" if username is \"admin\" and password is \"secret\".\n",
        "\n",
        "Returns \"Access denied\" otherwise."
      ],
      "metadata": {
        "id": "Q5LIpRVp6HTI"
      }
    },
    {
      "cell_type": "code",
      "source": [
        "#write your login system function here\n",
        "def login(username, password):\n",
        "  if username==\"admin\" and password==\"secret\":\n",
        "    return \"Access granted\"\n",
        "  else:\n",
        "      return \"Access denied\"\n",
        "\n",
        "      print(login(\"hi\",\"hi\"))"
      ],
      "metadata": {
        "id": "wGu-TSbb6OCJ"
      },
      "execution_count": null,
      "outputs": []
    },
    {
      "cell_type": "markdown",
      "source": [
        "## Activity 4: Rock-Paper-Scissors\n",
        "\n",
        "Write a function rps(player1, player2) where each argument is \"rock\", \"paper\", or \"scissors\".\n",
        "Return:\n",
        "\n",
        "\"Tie\" if both are the same.\n",
        "\n",
        "\"Player 1 wins\" if player 1 beats player 2.\n",
        "\n",
        "\"Player 2 wins\" otherwise.\n",
        "\n",
        "**Extra challenge is to get users to input their selection into the terminal**"
      ],
      "metadata": {
        "id": "RjKsbR6t6ZGa"
      }
    },
    {
      "cell_type": "code",
      "source": [
        "#write your rock_paper_scissors() function here"
      ],
      "metadata": {
        "id": "SDwbpJpF6r5E"
      },
      "execution_count": null,
      "outputs": []
    },
    {
      "cell_type": "code",
      "source": [
        "def rps(player1,player2):\n",
        "  if player1==\"paper\" and player2==\"rock\":\n",
        "    return (\"player 1 wins (paper covers rock)\")\n",
        "  elif player1==\"rock\" and player2==\"scissors\":\n",
        "    return (\"player 1 wins (rock smash scissors)\")\n",
        "  elif player1== \"scissors\" and player2==\"paper\":\n",
        "    return (\"player 1 wins (scissor cut paper)\")\n",
        "  elif player1==player2:\n",
        "      return (\"tie\")\n",
        "\n",
        "  else:\n",
        "      return (\"player 2 wins\")\n",
        "\n"
      ],
      "metadata": {
        "id": "tMk_BDyM68Br"
      },
      "execution_count": null,
      "outputs": []
    },
    {
      "cell_type": "code",
      "source": [
        "rps(\"rock\", \"paper\")\n",
        "rps (\"paper\",\"rock\")"
      ],
      "metadata": {
        "colab": {
          "base_uri": "https://localhost:8080/",
          "height": 35
        },
        "id": "Fvb60OYfAim8",
        "outputId": "729372fd-d551-4896-d65e-3f1610195f34"
      },
      "execution_count": null,
      "outputs": [
        {
          "output_type": "execute_result",
          "data": {
            "text/plain": [
              "'player 1 wins (paper covers rock)'"
            ],
            "application/vnd.google.colaboratory.intrinsic+json": {
              "type": "string"
            }
          },
          "metadata": {},
          "execution_count": 25
        }
      ]
    },
    {
      "cell_type": "markdown",
      "source": [
        "##The Modulo Operator\n",
        "\n",
        "The modulo operator (%) gives the remainder after division.\n",
        "\n",
        "7 % 3 → 1 (because 7 ÷ 3 = 2 remainder 1)\n",
        "\n",
        "10 % 2 → 0 (because 10 ÷ 2 = 5 remainder 0)\n",
        "\n",
        "14 % 5 → 4 (because 14 ÷ 5 = 2 remainder 4)\n",
        "\n",
        "This is useful in many programs, such as checking whether a number is even or odd."
      ],
      "metadata": {
        "id": "ZtDaq_fl68Yi"
      }
    },
    {
      "cell_type": "code",
      "source": [
        "def isEven(n):\n",
        "    if n % 2 == 0:\n",
        "        return True\n",
        "    else:\n",
        "        return False\n",
        "\n",
        "print(isEven(10))  # True\n",
        "print(isEven(7))   # False\n"
      ],
      "metadata": {
        "id": "QWzkLygZ7BjU",
        "colab": {
          "base_uri": "https://localhost:8080/"
        },
        "outputId": "b0ee2247-3cf4-4d06-d678-51e966b2c93c"
      },
      "execution_count": null,
      "outputs": [
        {
          "output_type": "stream",
          "name": "stdout",
          "text": [
            "True\n",
            "False\n"
          ]
        }
      ]
    },
    {
      "cell_type": "markdown",
      "source": [
        "##Activity 5\n",
        "Write a function isMultipleOf3(n) that returns True if n is a multiple of 3, and False otherwise.\n",
        "Test it with at least three different values."
      ],
      "metadata": {
        "id": "NFZI3NpW7GVI"
      }
    },
    {
      "cell_type": "code",
      "source": [
        "# Write isMultipleOf3() function here\n",
        "def multiple(n):\n",
        " if n % 3==0:\n",
        "  return (\"true, multiple of 3\")\n",
        " else:\n",
        "    return (\"false, not multiple of 3\")\n",
        "\n",
        "\n",
        "print(multiple (3))\n",
        "print (multiple(7))\n",
        "print (multiple(89))"
      ],
      "metadata": {
        "id": "we2iu4Yv7INk",
        "colab": {
          "base_uri": "https://localhost:8080/"
        },
        "outputId": "c4c5e0ad-bb3d-4230-fe1c-8a9294a549c4"
      },
      "execution_count": null,
      "outputs": [
        {
          "output_type": "stream",
          "name": "stdout",
          "text": [
            "true, multiple of 3\n",
            "false, not multiple of 3\n",
            "false, not multiple of 3\n"
          ]
        }
      ]
    },
    {
      "cell_type": "markdown",
      "source": [
        "##Activity 6: Leap Year\n",
        "\n",
        "Write a function is_leap_year(year) that returns True if a year is a leap year, and False otherwise.\n",
        "A leap year is:\n",
        "*italicized text*\n",
        "Divisible by 4, and\n",
        "\n",
        "Not divisible by 100, unless also divisible by 400.\n",
        "\n",
        "\n",
        "\n",
        "```\n",
        "print(is_leap_year(2000))  # True\n",
        "print(is_leap_year(1900))  # False\n",
        "print(is_leap_year(2024))  # True\n",
        "```\n",
        "\n"
      ],
      "metadata": {
        "id": "G8G53MNb4Wgd"
      }
    },
    {
      "cell_type": "code",
      "source": [
        "# Write is_leap_year() function here\n",
        "def is_leap_year(n):\n",
        "  if n%4==0:\n",
        "    return \"true - is leap year\"\n",
        "  elif n%100==0 and n%400==0:\n",
        "    return \"false\"\n",
        "  else:\n",
        "    return \"false\"\n",
        "print(is_leap_year(2000))  # True\n",
        "print(is_leap_year(1900))  # False\n",
        "print(is_leap_year(2024))  # True"
      ],
      "metadata": {
        "id": "GkiUHmV-4b-n",
        "colab": {
          "base_uri": "https://localhost:8080/"
        },
        "outputId": "d332c545-248c-4edb-e8ff-be7e26c9e099"
      },
      "execution_count": null,
      "outputs": [
        {
          "output_type": "stream",
          "name": "stdout",
          "text": [
            "true - is leap year\n",
            "true - is leap year\n",
            "true - is leap year\n"
          ]
        }
      ]
    },
    {
      "cell_type": "markdown",
      "source": [
        "##Randomness\n",
        "\n",
        "Sometimes we want our program to behave differently each time it runs. Python has a random module that helps us do this.\n",
        "\n",
        "First, we import it at the top of our code:\n",
        "\n",
        "\n",
        "\n",
        "```\n",
        "import random\n",
        "```\n",
        "Below is an example function that incorporates randomness called random number\n"
      ],
      "metadata": {
        "id": "1AAtGZgQ_Ny6"
      }
    },
    {
      "cell_type": "code",
      "source": [
        "import random\n",
        "\n",
        "def randomDice():\n",
        "    roll = random.randint(1, 6)   # gives a random number from 1 to 6 (inclusive)\n",
        "    return roll\n",
        "\n",
        "print(randomDice())\n",
        "print(randomDice())\n"
      ],
      "metadata": {
        "colab": {
          "base_uri": "https://localhost:8080/"
        },
        "id": "hO8JIZWx_wSx",
        "outputId": "f731781f-a13b-4fba-c962-6b07433876d2"
      },
      "execution_count": null,
      "outputs": [
        {
          "output_type": "stream",
          "name": "stdout",
          "text": [
            "4\n",
            "1\n"
          ]
        }
      ]
    },
    {
      "cell_type": "markdown",
      "source": [
        "##Activity 7: Random Even Number\n",
        "Write a function randomEven() that returns a random even number between 2 and 20.\n",
        "(Hint: You can use random.randint(1, 10) and then multiply the result by 2.)\n",
        "\n",
        "Example:\n",
        "\n",
        "```\n",
        "print(randomEven())  # could be 2, 4, 6, …, 20\n",
        "```\n"
      ],
      "metadata": {
        "id": "bcJ5-epU7H7z"
      }
    },
    {
      "cell_type": "code",
      "source": [
        "import random\n",
        "\n",
        "def randomEven():\n",
        "\n",
        "  a = random.randint(1,10)*2\n",
        "  return a\n",
        "\n",
        "\n",
        "\n",
        " evenList=(2,4,6,8,10,14,16,18,20)\n",
        " a = random.choice(evenList)\n",
        " return a\n",
        "\n"
      ],
      "metadata": {
        "id": "EvqoHaVIAGcT",
        "outputId": "bc100f70-c451-405e-f588-be62ad4cd1db",
        "colab": {
          "base_uri": "https://localhost:8080/",
          "height": 106
        }
      },
      "execution_count": 40,
      "outputs": [
        {
          "output_type": "error",
          "ename": "IndentationError",
          "evalue": "unindent does not match any outer indentation level (<tokenize>, line 10)",
          "traceback": [
            "\u001b[0;36m  File \u001b[0;32m\"<tokenize>\"\u001b[0;36m, line \u001b[0;32m10\u001b[0m\n\u001b[0;31m    evenList=(2,4,6,8,10,14,16,18,20)\u001b[0m\n\u001b[0m    ^\u001b[0m\n\u001b[0;31mIndentationError\u001b[0m\u001b[0;31m:\u001b[0m unindent does not match any outer indentation level\n"
          ]
        }
      ]
    },
    {
      "cell_type": "code",
      "source": [
        "randomEven()"
      ],
      "metadata": {
        "id": "RE4ttjuT55Om",
        "outputId": "8296745f-2dde-480c-db00-ccdbb2507346",
        "colab": {
          "base_uri": "https://localhost:8080/"
        }
      },
      "execution_count": 22,
      "outputs": [
        {
          "output_type": "execute_result",
          "data": {
            "text/plain": [
              "16"
            ]
          },
          "metadata": {},
          "execution_count": 22
        }
      ]
    },
    {
      "cell_type": "markdown",
      "source": [
        "##Activity 8: Random Password Helper\n",
        "\n",
        "Write a function randomChar() that returns a random lowercase letter between 'a' and 'z'.\n",
        "(Hint: Use random.randint(97, 122) to pick a Unicode number, and then chr() to turn it into a letter.)\n",
        "\n",
        "\n",
        "\n",
        "```\n",
        "print(randomChar())  # could be 'q'\n",
        "print(randomChar())  # could be 'm'\n",
        "\n",
        "```\n",
        "\n"
      ],
      "metadata": {
        "id": "bxQKB6zuAO5W"
      }
    },
    {
      "cell_type": "code",
      "source": [
        "# write the randomChar() function here\n",
        "import random\n",
        "def randomChar():\n",
        "  a = random.randint(97,122)\n",
        "\n",
        "  b=chr(a)\n",
        "  print (a,b)"
      ],
      "metadata": {
        "id": "nLcg4jAkAmMa"
      },
      "execution_count": 45,
      "outputs": []
    },
    {
      "cell_type": "code",
      "source": [
        "randomChar()"
      ],
      "metadata": {
        "id": "P1J3vC-G-Zt-",
        "outputId": "23cd85ff-f48d-44d7-f3c4-d361973aadb8",
        "colab": {
          "base_uri": "https://localhost:8080/"
        }
      },
      "execution_count": 48,
      "outputs": [
        {
          "output_type": "stream",
          "name": "stdout",
          "text": [
            "24 \u0018\n"
          ]
        }
      ]
    },
    {
      "cell_type": "markdown",
      "source": [
        "##Activity 9: Hack it\n",
        "\n",
        "Incorporate the main ideas from this activity and make a function that does something!"
      ],
      "metadata": {
        "id": "VDlrFC4nAt8M"
      }
    },
    {
      "cell_type": "code",
      "source": [
        "import random\n",
        "def numColor():\n",
        "  a=random.randint(1-20)\n",
        "  if a%2==0:\n",
        "      return \"red\"\n",
        "  else:\n",
        "        return \"blue\"\n",
        "\n",
        "\n",
        "\n",
        "#parameters, if else, colors generate a random number and if even it will be green and if odd it will be blue\n",
        "\n",
        "\n",
        "\n"
      ],
      "metadata": {
        "id": "KA2iYqoVA4Mt"
      },
      "execution_count": 50,
      "outputs": []
    },
    {
      "cell_type": "code",
      "source": [
        "numColor()"
      ],
      "metadata": {
        "id": "Qj1mm7VOBU9f",
        "outputId": "2401adbc-80b0-4504-b620-fd44a8bc9a16",
        "colab": {
          "base_uri": "https://localhost:8080/",
          "height": 263
        }
      },
      "execution_count": 51,
      "outputs": [
        {
          "output_type": "error",
          "ename": "TypeError",
          "evalue": "Random.randint() missing 1 required positional argument: 'b'",
          "traceback": [
            "\u001b[0;31m---------------------------------------------------------------------------\u001b[0m",
            "\u001b[0;31mTypeError\u001b[0m                                 Traceback (most recent call last)",
            "\u001b[0;32m/tmp/ipython-input-1159268819.py\u001b[0m in \u001b[0;36m<cell line: 0>\u001b[0;34m()\u001b[0m\n\u001b[0;32m----> 1\u001b[0;31m \u001b[0mnumColor\u001b[0m\u001b[0;34m(\u001b[0m\u001b[0;34m)\u001b[0m\u001b[0;34m\u001b[0m\u001b[0;34m\u001b[0m\u001b[0m\n\u001b[0m",
            "\u001b[0;32m/tmp/ipython-input-1131988542.py\u001b[0m in \u001b[0;36mnumColor\u001b[0;34m()\u001b[0m\n\u001b[1;32m      1\u001b[0m \u001b[0;32mimport\u001b[0m \u001b[0mrandom\u001b[0m\u001b[0;34m\u001b[0m\u001b[0;34m\u001b[0m\u001b[0m\n\u001b[1;32m      2\u001b[0m \u001b[0;32mdef\u001b[0m \u001b[0mnumColor\u001b[0m\u001b[0;34m(\u001b[0m\u001b[0;34m)\u001b[0m\u001b[0;34m:\u001b[0m\u001b[0;34m\u001b[0m\u001b[0;34m\u001b[0m\u001b[0m\n\u001b[0;32m----> 3\u001b[0;31m   \u001b[0ma\u001b[0m\u001b[0;34m=\u001b[0m\u001b[0mrandom\u001b[0m\u001b[0;34m.\u001b[0m\u001b[0mrandint\u001b[0m\u001b[0;34m(\u001b[0m\u001b[0;36m1\u001b[0m\u001b[0;34m-\u001b[0m\u001b[0;36m20\u001b[0m\u001b[0;34m)\u001b[0m\u001b[0;34m\u001b[0m\u001b[0;34m\u001b[0m\u001b[0m\n\u001b[0m\u001b[1;32m      4\u001b[0m   \u001b[0;32mif\u001b[0m \u001b[0ma\u001b[0m\u001b[0;34m%\u001b[0m\u001b[0;36m2\u001b[0m\u001b[0;34m==\u001b[0m\u001b[0;36m0\u001b[0m\u001b[0;34m:\u001b[0m\u001b[0;34m\u001b[0m\u001b[0;34m\u001b[0m\u001b[0m\n\u001b[1;32m      5\u001b[0m       \u001b[0;32mreturn\u001b[0m \u001b[0;34m\"red\"\u001b[0m\u001b[0;34m\u001b[0m\u001b[0;34m\u001b[0m\u001b[0m\n",
            "\u001b[0;31mTypeError\u001b[0m: Random.randint() missing 1 required positional argument: 'b'"
          ]
        }
      ]
    }
  ]
}